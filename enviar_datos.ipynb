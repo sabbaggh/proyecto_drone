{
 "cells": [
  {
   "cell_type": "code",
   "execution_count": 5,
   "id": "7f890d89-4392-4ae5-a6ce-3f49b1b7c9aa",
   "metadata": {},
   "outputs": [
    {
     "name": "stdout",
     "output_type": "stream",
     "text": [
      "Connecting to 100.104.54.62 via SSH...\n",
      "Output:\n",
      "ubuntu\n",
      " 05:43:01 up  2:13,  2 users,  load average: 0.95, 0.64, 0.47\n",
      "\n"
     ]
    }
   ],
   "source": [
    "import paramiko\n",
    "\n",
    "# Replace with your details\n",
    "TAILSCALE_IP = \"100.104.54.62\"   # Tailscale IP of target\n",
    "USERNAME = \"juanincho\"   # e.g. pi, ubuntu, etc.\n",
    "PASSWORD = \"2314\"   # or use a key\n",
    "\n",
    "# Initialize SSH client\n",
    "client = paramiko.SSHClient()\n",
    "client.set_missing_host_key_policy(paramiko.AutoAddPolicy())\n",
    "\n",
    "try:\n",
    "    print(f\"Connecting to {TAILSCALE_IP} via SSH...\")\n",
    "    client.connect(TAILSCALE_IP, username=USERNAME, password=PASSWORD)\n",
    "\n",
    "    stdin, stdout, stderr = client.exec_command(\"hostname && uptime\")\n",
    "    print(\"Output:\")\n",
    "    print(stdout.read().decode())\n",
    "\n",
    "except Exception as e:\n",
    "    print(\"Connection failed:\", e)\n",
    "finally:\n",
    "    client.close()\n"
   ]
  },
  {
   "cell_type": "markdown",
   "id": "c8141929-ce1b-4e62-b20e-a3762bc68ab7",
   "metadata": {},
   "source": [
    "## Prueba mandando el array de las 4 esquinas"
   ]
  },
  {
   "cell_type": "code",
   "execution_count": 3,
   "id": "8a97ca12-e900-4146-998b-5e38d303c8c3",
   "metadata": {},
   "outputs": [],
   "source": [
    "import paramiko\n",
    "import json\n",
    "import sys\n",
    "import time"
   ]
  },
  {
   "cell_type": "code",
   "execution_count": 4,
   "id": "b44f999f-acca-492e-b173-f2ba83b60834",
   "metadata": {},
   "outputs": [
    {
     "name": "stderr",
     "output_type": "stream",
     "text": [
      "IOPub data rate exceeded.\n",
      "The Jupyter server will temporarily stop sending output\n",
      "to the client in order to avoid crashing it.\n",
      "To change this limit, set the config variable\n",
      "`--ServerApp.iopub_data_rate_limit`.\n",
      "\n",
      "Current values:\n",
      "ServerApp.iopub_data_rate_limit=1000000.0 (bytes/sec)\n",
      "ServerApp.rate_limit_window=3.0 (secs)\n",
      "\n",
      "REMOTE STDERR: CRITICAL:autopilot:APM:Copter V3.3 (d6053245)\n",
      "CRITICAL:autopilot:Frame: QUAD\n",
      "ERROR:autopilot:ARMING MOTORS\n",
      "CRITICAL:autopilot:Initialising APM...\n",
      "\n"
     ]
    }
   ],
   "source": [
    "# Replace with your details\n",
    "TAILSCALE_IP = \"100.104.54.62\"   # Tailscale IP of target\n",
    "USERNAME = \"juanincho\"   # e.g. pi, ubuntu, etc.\n",
    "PASSWORD = \"2314\"   # or use a key\n",
    "\n",
    "# Initialize SSH client\n",
    "client = paramiko.SSHClient()\n",
    "client.set_missing_host_key_policy(paramiko.AutoAddPolicy())\n",
    "\n",
    "#poniendo array con las esquinas en un json\n",
    "json_payload = json.dumps([(20.432822, -99.599167), (20.432822, -99.599031), (20.432735, -99.599167), (20.432735, -99.599031)])\n",
    "\n",
    "try:\n",
    "    # Ejecutar el script remoto y enviarle JSON por stdin\n",
    "    # 'python3 -u' para modo sin buffer y que la salida venga inmediatamente\n",
    "    cmd = f\"bash -lc 'source /home/juanincho/Documents/GitHub/proyecto_drone/venv/bin/activate && python3 -u /home/juanincho/Documents/GitHub/proyecto_drone/test_receiving_path.py'\"\n",
    "    client.connect(TAILSCALE_IP, username=USERNAME, password=PASSWORD)\n",
    "    stdin, stdout, stderr = client.exec_command(cmd, get_pty=False)\n",
    "\n",
    "    # enviar JSON y cerrar stdin para indicar EOF\n",
    "    stdin.write(json_payload)\n",
    "    stdin.flush()\n",
    "    stdin.channel.shutdown_write()\n",
    "\n",
    "    # leer salida (bloqueante hasta que el proceso termine)\n",
    "    out = stdout.read().decode('utf-8')\n",
    "    err = stderr.read().decode('utf-8')\n",
    "\n",
    "    if err:\n",
    "        # opcionalmente mostrar errores del lado remoto\n",
    "        print(\"REMOTE STDERR:\", err, file=sys.stderr)\n",
    "\n",
    "    try:\n",
    "        response = json.loads(out.strip() or \"{}\")\n",
    "    except json.JSONDecodeError:\n",
    "        response = {\"raw_stdout\": out, \"stderr\": err}\n",
    "\n",
    "finally:\n",
    "    client.close()\n",
    "\n",
    "print(\"Respuesta remota:\", response)"
   ]
  },
  {
   "cell_type": "code",
   "execution_count": 1,
   "id": "68ed5d01-6861-495b-8d2f-273f87d17c24",
   "metadata": {},
   "outputs": [
    {
     "data": {
      "text/plain": [
       "{'status': 'ok', 'restart': True}"
      ]
     },
     "execution_count": 1,
     "metadata": {},
     "output_type": "execute_result"
    }
   ],
   "source": [
    "from IPython.core.interactiveshell import InteractiveShell\n",
    "InteractiveShell.instance().kernel.do_shutdown(True)\n"
   ]
  },
  {
   "cell_type": "code",
   "execution_count": 2,
   "id": "bfff62c3-c5fb-4a58-97c1-00896b9a4f35",
   "metadata": {},
   "outputs": [],
   "source": [
    "# Aumentar límite a, por ejemplo, 100 MB/s\n",
    "%config ServerApp.iopub_data_rate_limit=100000000\n"
   ]
  },
  {
   "cell_type": "code",
   "execution_count": null,
   "id": "5eeade03-24b2-40ae-8101-153a5c37c9bc",
   "metadata": {},
   "outputs": [],
   "source": []
  }
 ],
 "metadata": {
  "kernelspec": {
   "display_name": "My Custom Python Kernel",
   "language": "python",
   "name": "my_jupyter_env"
  },
  "language_info": {
   "codemirror_mode": {
    "name": "ipython",
    "version": 3
   },
   "file_extension": ".py",
   "mimetype": "text/x-python",
   "name": "python",
   "nbconvert_exporter": "python",
   "pygments_lexer": "ipython3",
   "version": "3.12.4"
  }
 },
 "nbformat": 4,
 "nbformat_minor": 5
}
